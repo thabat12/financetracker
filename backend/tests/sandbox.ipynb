{
 "cells": [
  {
   "cell_type": "code",
   "execution_count": 5,
   "metadata": {},
   "outputs": [],
   "source": [
    "import requests\n",
    "\n",
    "TEST_API_URL = \"http://localhost:8001\"\n"
   ]
  },
  {
   "cell_type": "code",
   "execution_count": 22,
   "metadata": {},
   "outputs": [],
   "source": [
    "resp = requests.post(f\"{TEST_API_URL}/auth/create_google\", json={})\n",
    "resp = resp.json()"
   ]
  },
  {
   "cell_type": "code",
   "execution_count": 23,
   "metadata": {},
   "outputs": [
    {
     "data": {
      "text/plain": [
       "{'authorization_token': 'cZAK9gqm2jwisEYUhWmG:3a6dcbb6-068d-4f33-962d-288925e8ff4f:5315e9949720744681fd3f5866a04c7f498518ef3ed0c0a96ef5dbb7bc7a7f2e',\n",
       " 'user_id': 'cZAK9gqm2jwisEYUhWmG',\n",
       " 'account_status': 'created'}"
      ]
     },
     "execution_count": 23,
     "metadata": {},
     "output_type": "execute_result"
    }
   ],
   "source": [
    "resp"
   ]
  },
  {
   "cell_type": "markdown",
   "metadata": {},
   "source": [
    "All we have so far is a plain user who has not connected to Plaid yet. So that is the next order of business."
   ]
  },
  {
   "cell_type": "code",
   "execution_count": 24,
   "metadata": {},
   "outputs": [],
   "source": [
    "# now let us login with this user given that you have an access token\n",
    "resp2 = requests.post(\n",
    "        f\"{TEST_API_URL}/plaid/link_account\", \n",
    "        headers={\n",
    "            \"Authorization\": f\"Bearer {resp['authorization_token']}\",\n",
    "            \"Content-Type\": \"application/json\"\n",
    "        },\n",
    "        json={\n",
    "            \"institution_id\": \"ins_109508\"\n",
    "        }\n",
    "    )"
   ]
  },
  {
   "cell_type": "code",
   "execution_count": 25,
   "metadata": {},
   "outputs": [
    {
     "data": {
      "text/plain": [
       "{'message': 'success'}"
      ]
     },
     "execution_count": 25,
     "metadata": {},
     "output_type": "execute_result"
    }
   ],
   "source": [
    "resp2.json()"
   ]
  },
  {
   "cell_type": "code",
   "execution_count": null,
   "metadata": {},
   "outputs": [],
   "source": [
    "'''\n",
    "\n",
    "    client.post(f'{TESTCLIENT_BASE_URL}/plaid/link_account', \n",
    "    #                         headers={\n",
    "    #                             \"Authorization\": f'Bearer {authorization_token}',\n",
    "    #                             \"Content-Type\": \"application/json\"\n",
    "    #                         },\n",
    "    #                         json={'institution_id': ins_id})\n",
    "\n",
    "    \n",
    "'''"
   ]
  }
 ],
 "metadata": {
  "kernelspec": {
   "display_name": "base",
   "language": "python",
   "name": "python3"
  },
  "language_info": {
   "codemirror_mode": {
    "name": "ipython",
    "version": 3
   },
   "file_extension": ".py",
   "mimetype": "text/x-python",
   "name": "python",
   "nbconvert_exporter": "python",
   "pygments_lexer": "ipython3",
   "version": "3.11.4"
  }
 },
 "nbformat": 4,
 "nbformat_minor": 2
}
