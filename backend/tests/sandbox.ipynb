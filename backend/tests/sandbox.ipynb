{
 "cells": [
  {
   "cell_type": "code",
   "execution_count": 1,
   "metadata": {},
   "outputs": [],
   "source": [
    "import requests\n",
    "\n",
    "TEST_API_URL = \"http://localhost:8001\"\n"
   ]
  },
  {
   "cell_type": "code",
   "execution_count": 94,
   "metadata": {},
   "outputs": [],
   "source": [
    "resp = requests.post(f\"{TEST_API_URL}/auth/create_google\", json={})\n",
    "resp = resp.json()"
   ]
  },
  {
   "cell_type": "code",
   "execution_count": 95,
   "metadata": {},
   "outputs": [
    {
     "data": {
      "text/plain": [
       "{'authorization_token': 'HzRIijoyAfmFT3nxcwAZ:bc1ef74d-cb74-4665-852a-0de3a2d44496:6ed67b50708a52504031fe5c18f929fce8b4dcc48f70322cc1e874d98f751008',\n",
       " 'user_id': 'HzRIijoyAfmFT3nxcwAZ',\n",
       " 'account_status': 'created'}"
      ]
     },
     "execution_count": 95,
     "metadata": {},
     "output_type": "execute_result"
    }
   ],
   "source": [
    "resp"
   ]
  },
  {
   "cell_type": "markdown",
   "metadata": {},
   "source": [
    "All we have so far is a plain user who has not connected to Plaid yet. So that is the next order of business."
   ]
  },
  {
   "cell_type": "code",
   "execution_count": 100,
   "metadata": {},
   "outputs": [],
   "source": [
    "# now let us login with this user given that you have an access token\n",
    "resp2 = requests.post(\n",
    "        f\"{TEST_API_URL}/plaid/link_account\", \n",
    "        headers={\n",
    "            \"Authorization\": f\"Bearer {resp['authorization_token']}\",\n",
    "            \"Content-Type\": \"application/json\"\n",
    "        },\n",
    "        json={\n",
    "            \"institution_id\": \"ins_109508\"\n",
    "        }\n",
    "    )"
   ]
  },
  {
   "cell_type": "code",
   "execution_count": 99,
   "metadata": {},
   "outputs": [
    {
     "data": {
      "text/plain": [
       "{'message': 'success'}"
      ]
     },
     "execution_count": 99,
     "metadata": {},
     "output_type": "execute_result"
    }
   ],
   "source": [
    "resp2.json()"
   ]
  },
  {
   "cell_type": "code",
   "execution_count": 105,
   "metadata": {},
   "outputs": [],
   "source": [
    "# now let us login with this user given that you have an access token\n",
    "resp3 = requests.post(\n",
    "        f\"{TEST_API_URL}/plaid/link_account_test\", \n",
    "        headers={\n",
    "            \"Authorization\": f\"Bearer {resp['authorization_token']}\",\n",
    "            \"Content-Type\": \"application/json\"\n",
    "        },\n",
    "        json={\n",
    "            \"custom_user\": \"gMGAEzmeajRvVNRieAnV\"\n",
    "        }\n",
    "    )"
   ]
  },
  {
   "cell_type": "markdown",
   "metadata": {},
   "source": [
    "create a new user and then make him/ her connect to plaid and update their transactions"
   ]
  },
  {
   "cell_type": "code",
   "execution_count": 112,
   "metadata": {},
   "outputs": [
    {
     "name": "stdout",
     "output_type": "stream",
     "text": [
      "{'authorization_token': '1piF6PPVJLaaUWAM3jR7:f68c19af-dca7-49d1-81fd-07d71e76afff:3496477feb28f4b74a018d35fb1011a4ba306dff5fb166309842e8396a7d448a', 'user_id': '1piF6PPVJLaaUWAM3jR7', 'account_status': 'created'}\n"
     ]
    },
    {
     "data": {
      "text/plain": [
       "{'message': 'success'}"
      ]
     },
     "execution_count": 112,
     "metadata": {},
     "output_type": "execute_result"
    }
   ],
   "source": [
    "resp = requests.post(f\"{TEST_API_URL}/auth/create_google\", json={})\n",
    "resp = resp.json()\n",
    "\n",
    "print(resp)\n",
    "\n",
    "resp2 = requests.post(\n",
    "        f\"{TEST_API_URL}/plaid/link_account\", \n",
    "        headers={\n",
    "            \"Authorization\": f\"Bearer {resp['authorization_token']}\",\n",
    "            \"Content-Type\": \"application/json\"\n",
    "        },\n",
    "        json={\n",
    "            \"institution_id\": \"ins_109508\"\n",
    "        }\n",
    "    )\n",
    "\n",
    "resp2.json()"
   ]
  },
  {
   "cell_type": "code",
   "execution_count": 5,
   "metadata": {},
   "outputs": [
    {
     "data": {
      "text/plain": [
       "TestModel(date=datetime.datetime(2021, 1, 1, 0, 0), nested=None)"
      ]
     },
     "execution_count": 5,
     "metadata": {},
     "output_type": "execute_result"
    }
   ],
   "source": [
    "from pydantic import BaseModel\n",
    "from typing import Optional\n",
    "from datetime import datetime\n",
    "\n",
    "class NestedObject(BaseModel):\n",
    "    name: str\n",
    "\n",
    "class TestModel(BaseModel):\n",
    "    date: datetime\n",
    "    nested: Optional[NestedObject] = None\n",
    "\n",
    "TestModel(date=\"2021-01-01\")"
   ]
  },
  {
   "cell_type": "code",
   "execution_count": 11,
   "metadata": {},
   "outputs": [
    {
     "data": {
      "text/plain": [
       "TestModel(date=datetime.datetime(2021, 1, 1, 0, 0), nested=NestedObject(name='abhinav'))"
      ]
     },
     "execution_count": 11,
     "metadata": {},
     "output_type": "execute_result"
    }
   ],
   "source": [
    "TestModel.model_validate({\"date\": \"2021-01-01\", \"nested\": {\"name\": \"abhinav\"}})"
   ]
  },
  {
   "cell_type": "code",
   "execution_count": 12,
   "metadata": {},
   "outputs": [
    {
     "data": {
      "text/plain": [
       "[1, 2, 3, 4, 5, 6]"
      ]
     },
     "execution_count": 12,
     "metadata": {},
     "output_type": "execute_result"
    }
   ],
   "source": [
    "a = [1,2,3]\n",
    "a.extend([4, 5, 6])\n",
    "a"
   ]
  },
  {
   "cell_type": "code",
   "execution_count": 9,
   "metadata": {},
   "outputs": [
    {
     "data": {
      "text/plain": [
       "'2021-01-01'"
      ]
     },
     "execution_count": 9,
     "metadata": {},
     "output_type": "execute_result"
    }
   ],
   "source": [
    "str(datetime(2021, 1, 1).date())"
   ]
  }
 ],
 "metadata": {
  "kernelspec": {
   "display_name": "base",
   "language": "python",
   "name": "python3"
  },
  "language_info": {
   "codemirror_mode": {
    "name": "ipython",
    "version": 3
   },
   "file_extension": ".py",
   "mimetype": "text/x-python",
   "name": "python",
   "nbconvert_exporter": "python",
   "pygments_lexer": "ipython3",
   "version": "3.11.4"
  }
 },
 "nbformat": 4,
 "nbformat_minor": 2
}
