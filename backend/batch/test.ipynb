{
 "cells": [
  {
   "cell_type": "code",
   "execution_count": 6,
   "metadata": {},
   "outputs": [],
   "source": [
    "import uuid\n",
    "import hmac\n",
    "import hashlib\n",
    "\n",
    "SECRET_KEY = bytes('secret_sauce', encoding='utf-8')\n",
    "\n",
    "def generate_token(user_id: str) -> str:\n",
    "    # Create a unique identifier for the token\n",
    "    token_id = str(uuid.uuid4())\n",
    "    \n",
    "    # Combine the user ID and token ID\n",
    "    token_data = f\"{user_id}:{token_id}\"\n",
    "    \n",
    "    # Sign the token data with the secret key\n",
    "    signature = hmac.new(SECRET_KEY, token_data.encode(), hashlib.sha256).hexdigest()\n",
    "    \n",
    "    # Combine the token data and signature\n",
    "    token = f\"{token_data}:{signature}\"\n",
    "    \n",
    "    return token"
   ]
  },
  {
   "cell_type": "code",
   "execution_count": 36,
   "metadata": {},
   "outputs": [
    {
     "data": {
      "text/plain": [
       "109"
      ]
     },
     "execution_count": 36,
     "metadata": {},
     "output_type": "execute_result"
    }
   ],
   "source": [
    "token = generate_token('ab75438')\n",
    "len(token)"
   ]
  },
  {
   "cell_type": "code",
   "execution_count": 28,
   "metadata": {},
   "outputs": [],
   "source": [
    "def verify_token(token: str) -> bool:\n",
    "    try:\n",
    "        token_data, token_signature = token.rsplit(\":\", 1)\n",
    "        expected_signature = hmac.new(SECRET_KEY, token_data.encode(), hashlib.sha256).hexdigest()\n",
    "        return hmac.compare_digest(expected_signature, token_signature)\n",
    "    except Exception:\n",
    "        return False"
   ]
  },
  {
   "cell_type": "code",
   "execution_count": 29,
   "metadata": {},
   "outputs": [
    {
     "data": {
      "text/plain": [
       "True"
      ]
     },
     "execution_count": 29,
     "metadata": {},
     "output_type": "execute_result"
    }
   ],
   "source": [
    "verify_token(token)"
   ]
  },
  {
   "cell_type": "code",
   "execution_count": null,
   "metadata": {},
   "outputs": [],
   "source": []
  }
 ],
 "metadata": {
  "kernelspec": {
   "display_name": "financetracker",
   "language": "python",
   "name": "python3"
  },
  "language_info": {
   "codemirror_mode": {
    "name": "ipython",
    "version": 3
   },
   "file_extension": ".py",
   "mimetype": "text/x-python",
   "name": "python",
   "nbconvert_exporter": "python",
   "pygments_lexer": "ipython3",
   "version": "3.11.5"
  }
 },
 "nbformat": 4,
 "nbformat_minor": 2
}
